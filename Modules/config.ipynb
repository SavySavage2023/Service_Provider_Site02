{
 "cells": [
  {
   "cell_type": "markdown",
   "id": "eadcc5ed",
   "metadata": {},
   "source": [
    "# Config Module\n",
    "All configuration and environment variable logic from the Flask app."
   ]
  },
  {
   "cell_type": "code",
   "execution_count": null,
   "id": "770a5de0",
   "metadata": {},
   "outputs": [],
   "source": [
    "import os\n",
    "from dotenv import load_dotenv\n",
    "load_dotenv()\n",
    "\n",
    "APP_DIR = os.path.abspath(os.path.dirname(__file__))\n",
    "INSTANCE_DIR = os.path.join(APP_DIR, \"instance\")\n",
    "os.makedirs(INSTANCE_DIR, exist_ok=True)\n",
    "DB_PATH = os.path.join(INSTANCE_DIR, \"site.db\")\n",
    "\n",
    "def get_env(name, default=None):\n",
    "    val = os.environ.get(name)\n",
    "    return val if val is not None else default\n"
   ]
  }
 ],
 "metadata": {
  "language_info": {
   "name": "python"
  }
 },
 "nbformat": 4,
 "nbformat_minor": 5
}
