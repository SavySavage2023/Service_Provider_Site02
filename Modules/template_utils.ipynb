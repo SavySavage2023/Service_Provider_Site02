{
 "cells": [
  {
   "cell_type": "markdown",
   "id": "ff092fb8",
   "metadata": {},
   "source": [
    "# Template Utils Module\n",
    "All template helper functions and context processors from the Flask app."
   ]
  },
  {
   "cell_type": "code",
   "execution_count": null,
   "id": "1c9f6ea4",
   "metadata": {},
   "outputs": [],
   "source": [
    "import datetime\n",
    "from flask import current_app\n",
    "\n",
    "# Example: Inject current year into templates\n",
    "def inject_globals():\n",
    "    return {\n",
    "        \"current_year\": datetime.datetime.now().year,\n",
    "    }\n"
   ]
  }
 ],
 "metadata": {
  "language_info": {
   "name": "python"
  }
 },
 "nbformat": 4,
 "nbformat_minor": 5
}
