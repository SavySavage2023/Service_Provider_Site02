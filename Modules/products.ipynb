{
 "cells": [
  {
   "cell_type": "markdown",
   "id": "cce2d9d9",
   "metadata": {},
   "source": [
    "# products.py Module\n",
    "\n",
    "Handles product CRUD, filtering, and search logic."
   ]
  },
  {
   "cell_type": "markdown",
   "id": "4b811ee9",
   "metadata": {},
   "source": [
    "# Products Module\n",
    "All public product listing, filtering, and related logic from the Flask app."
   ]
  },
  {
   "cell_type": "code",
   "execution_count": null,
   "id": "c2ff748e",
   "metadata": {},
   "outputs": [],
   "source": [
    "from flask import request, render_template\n",
    "from contextlib import closing\n",
    "import re\n",
    "\n",
    "# Import get_db from the db module (already loaded by app.py)\n",
    "from db import get_db\n",
    "\n",
    "# --- Public Products Listing ---\n",
    "def get_products_page(request):\n",
    "    \"\"\"\n",
    "    Main function called by app.py for the /products route\n",
    "    \"\"\"\n",
    "    search_query = request.args.get('q', '').strip()\n",
    "    filter_type = request.args.get('filter', 'all')\n",
    "    zip_param = (request.args.get('zip', '') or '').strip()\n",
    "    \n",
    "    with closing(get_db()) as db:\n",
    "        cur = db.cursor()\n",
    "        base_query = (\n",
    "            \"SELECT p.id, p.title, p.description, p.price, p.provider_id, \"\n",
    "            \"prov.business_name as provider_business_name, prov.base_zip as provider_base_zip \"\n",
    "            \"FROM products p \"\n",
    "            \"LEFT JOIN providers prov ON p.provider_id = prov.id \"\n",
    "            \"WHERE p.active = 1\"\n",
    "        )\n",
    "        params = []\n",
    "        \n",
    "        if search_query:\n",
    "            base_query += \" AND (LOWER(p.title) LIKE LOWER(?) OR LOWER(p.description) LIKE LOWER(?) OR LOWER(prov.business_name) LIKE LOWER(?) OR LOWER(prov.first_name) LIKE LOWER(?))\"\n",
    "            search_param = f\"%{search_query}%\"\n",
    "            params.extend([search_param, search_param, search_param, search_param])\n",
    "        \n",
    "        if filter_type == 'best_price':\n",
    "            base_query += \" ORDER BY CASE WHEN p.price LIKE '$%' THEN CAST(SUBSTR(p.price, 2, INSTR(p.price || '-', '-') - 2) AS INTEGER) ELSE 999999 END ASC, p.created_at DESC\"\n",
    "        elif filter_type == 'by_provider':\n",
    "            base_query += \" ORDER BY COALESCE(prov.business_name, 'Independent Contributor'), p.title ASC\"\n",
    "        else:\n",
    "            base_query += \" ORDER BY p.created_at DESC\"\n",
    "        \n",
    "        cur.execute(base_query, params)\n",
    "        products_raw = cur.fetchall()\n",
    "        \n",
    "        # Convert rows to dictionaries\n",
    "        products_list = [\n",
    "            {\n",
    "                'id': row['id'],\n",
    "                'title': row['title'],\n",
    "                'description': row['description'],\n",
    "                'price': row['price'],\n",
    "                'provider_id': row['provider_id'],\n",
    "                'provider_business_name': row['provider_business_name']\n",
    "            }\n",
    "            for row in products_raw\n",
    "        ]\n",
    "        \n",
    "        # Get profile for template context\n",
    "        cur.execute(\"SELECT first_name, business_name FROM profile WHERE id = 1\")\n",
    "        profile_row = cur.fetchone()\n",
    "        profile = {\n",
    "            \"first_name\": profile_row[\"first_name\"] if profile_row else \"\",\n",
    "            \"business_name\": profile_row[\"business_name\"] if profile_row else \"Your Service Provider\"\n",
    "        }\n",
    "    \n",
    "    return render_template(\n",
    "        \"products.html\",\n",
    "        products=products_list,\n",
    "        profile=profile,\n",
    "        search_query=search_query,\n",
    "        filter_type=filter_type,\n",
    "        title=\"All Products\",\n",
    "    )\n"
   ]
  }
 ],
 "metadata": {
  "kernelspec": {
   "display_name": "Python 3",
   "language": "python",
   "name": "python3"
  },
  "language_info": {
   "name": "python"
  }
 },
 "nbformat": 4,
 "nbformat_minor": 5
}
