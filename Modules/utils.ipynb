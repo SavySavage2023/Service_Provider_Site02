{
 "cells": [
  {
   "cell_type": "markdown",
   "id": "1f121137",
   "metadata": {},
   "source": [
    "# Utils Module\n",
    "All utility functions and helpers from the Flask app."
   ]
  },
  {
   "cell_type": "code",
   "execution_count": null,
   "id": "79d20019",
   "metadata": {},
   "outputs": [],
   "source": [
    "import re\n",
    "import csv\n",
    "from functools import wraps\n",
    "from contextlib import closing\n",
    "\n",
    "# Example utility: ZIP code validation\n",
    "def is_zip_allowed(zip_code: str) -> bool:\n",
    "    if not zip_code or not re.fullmatch(r\"\\d{5}\", zip_code):\n",
    "        return False\n",
    "    with closing(get_db()) as db:\n",
    "        cur = db.cursor()\n",
    "        cur.execute(\"SELECT zip, radius_miles FROM zips\")\n",
    "        rows = cur.fetchall()\n",
    "    if any(r[\"zip\"] == zip_code for r in rows):\n",
    "        return True\n",
    "    # Proximity check omitted for brevity\n",
    "    return False\n"
   ]
  }
 ],
 "metadata": {
  "language_info": {
   "name": "python"
  }
 },
 "nbformat": 4,
 "nbformat_minor": 5
}
