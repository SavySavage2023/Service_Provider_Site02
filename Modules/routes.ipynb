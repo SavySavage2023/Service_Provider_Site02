{
 "cells": [
  {
   "cell_type": "markdown",
   "id": "cf7740c4",
   "metadata": {},
   "source": [
    "# Routes Module\n",
    "All Flask route definitions and endpoint logic from the app."
   ]
  }
 ],
 "metadata": {
  "language_info": {
   "name": "python"
  }
 },
 "nbformat": 4,
 "nbformat_minor": 5
}
